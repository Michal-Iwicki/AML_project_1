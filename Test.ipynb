{
 "cells": [
  {
   "cell_type": "code",
   "execution_count": null,
   "metadata": {},
   "outputs": [],
   "source": [
    "import numpy as np\n",
    "\n",
    "def soft_thresholding(a, b):\n",
    "    return np.sign(a) * np.maximum(np.abs(a) - b, 0)\n",
    "\n",
    "def one_hot_encode(y, num_classes=None):\n",
    "    y = np.array(y)\n",
    "    if num_classes is None:\n",
    "        num_classes = np.max(y) + 1\n",
    "    \n",
    "    one_hot = np.zeros((len(y), num_classes))\n",
    "    one_hot[np.arange(len(y)), y] = 1\n",
    "    return one_hot\n",
    "\n",
    "\n",
    "class logisitic_regression():\n",
    "    def __init__(self):\n",
    "        pass\n",
    "    \n",
    "    def set_std_mean(self,X, epsilon = 1e-8):\n",
    "        self.mean = np.mean(X, axis = 0)\n",
    "        std = np.std(X,axis = 0)\n",
    "        self.std = np.where(std > 0, std, epsilon)\n",
    "\n",
    "    def standarize(self, X):\n",
    "        return (X-self.mean)/self.std\n",
    "        \n",
    "\n",
    "    def fit(self, X, y, a, lambd, times = 10, extinction = 0.1):\n",
    "        n, p = X.shape\n",
    "        X, y = np.array(X), np.array(y)\n",
    "        self.set_std_mean(X)\n",
    "        X = self.standarize(X)\n",
    "        y = one_hot_encode(y)\n",
    "        g = y.shape[1]\n",
    "        self.B = np.zeros((p,g))\n",
    "        for i in range(times):\n",
    "            #lambd *= extinction\n",
    "            for k in range(g):\n",
    "                for j in range(p):\n",
    "                    xj = X[:,j]\n",
    "                    #X = (X.T[self.B]).T jest tam opcja by olewać obliczenia dla zerowych bet to zrobić mniej więcej tak albo trzymać listę indeksów i na samych nich to robić\n",
    "                    #X = X[:,non_zero_beta]\n",
    "                    sum = (xj@(y[:,k])) - xj@X@(self.B[:,k]) + self.B[j,k]\n",
    "                    self.B[j,k]= soft_thresholding(sum/n,lambd*a)/(1+lambd*(1-a))\n",
    "\n",
    "    def predict_proba(self, X):\n",
    "        X = np.array(X)\n",
    "        X = self.standarize(X)\n",
    "        X = np.exp(X@self.B)\n",
    "        return X / X.sum(axis=1, keepdims=True)\n",
    "        "
   ]
  },
  {
   "cell_type": "code",
   "execution_count": 30,
   "metadata": {},
   "outputs": [],
   "source": [
    "from ucimlrepo import fetch_ucirepo\n",
    "import numpy as np\n",
    "\n",
    "rice_cammeo_and_osmancik = fetch_ucirepo(id=545) \n",
    "X_1 = np.array(rice_cammeo_and_osmancik.data.features) \n",
    "y_1 = (np.array(rice_cammeo_and_osmancik.data.targets).T[0]== \"Cammeo\").astype(int)"
   ]
  },
  {
   "cell_type": "code",
   "execution_count": 52,
   "metadata": {},
   "outputs": [
    {
     "data": {
      "text/plain": [
       "array([[0., 1.],\n",
       "       [0., 1.],\n",
       "       [0., 1.],\n",
       "       ...,\n",
       "       [1., 0.],\n",
       "       [1., 0.],\n",
       "       [1., 0.]])"
      ]
     },
     "execution_count": 52,
     "metadata": {},
     "output_type": "execute_result"
    }
   ],
   "source": [
    "one_hot_encode(y_1)"
   ]
  },
  {
   "cell_type": "code",
   "execution_count": 53,
   "metadata": {},
   "outputs": [],
   "source": [
    "lr_test = logisitic_regression()\n",
    "lr_test.fit(X_1,y_1,1 ,0.1)"
   ]
  },
  {
   "cell_type": "code",
   "execution_count": 54,
   "metadata": {},
   "outputs": [
    {
     "data": {
      "text/plain": [
       "array([[-0.03315889,  0.03315889],\n",
       "       [-0.06549224,  0.06549224],\n",
       "       [-0.02104434,  0.02104434],\n",
       "       [-0.        ,  0.        ],\n",
       "       [-0.01468034,  0.01468034],\n",
       "       [-0.0674756 ,  0.0674756 ],\n",
       "       [ 0.        , -0.        ]])"
      ]
     },
     "execution_count": 54,
     "metadata": {},
     "output_type": "execute_result"
    }
   ],
   "source": [
    "lr_test.B"
   ]
  },
  {
   "cell_type": "code",
   "execution_count": 55,
   "metadata": {},
   "outputs": [
    {
     "name": "stderr",
     "output_type": "stream",
     "text": [
      "C:\\Users\\Michał\\AppData\\Local\\Temp\\ipykernel_18000\\2645940924.py:51: RuntimeWarning: divide by zero encountered in divide\n",
      "  return X / X.sum(axis=1, keepdims=True)\n"
     ]
    },
    {
     "data": {
      "text/plain": [
       "array([[ 1.06486668e+14, -1.06486668e+14],\n",
       "       [ 6.74720214e+13, -6.74720214e+13],\n",
       "       [ 8.94526007e+13, -8.94526007e+13],\n",
       "       ...,\n",
       "       [ 8.98611605e+13, -8.98611605e+13],\n",
       "       [ 7.95162300e+13, -7.95162300e+13],\n",
       "       [ 8.18281267e+13, -8.18281267e+13]])"
      ]
     },
     "execution_count": 55,
     "metadata": {},
     "output_type": "execute_result"
    }
   ],
   "source": [
    "lr_test.predict_proba(X_1)"
   ]
  },
  {
   "cell_type": "code",
   "execution_count": 23,
   "metadata": {},
   "outputs": [
    {
     "data": {
      "text/plain": [
       "(array([[1, 2, 6],\n",
       "        [9, 7, 2],\n",
       "        [2, 4, 9],\n",
       "        [4, 9, 4],\n",
       "        [4, 4, 5],\n",
       "        [3, 8, 6],\n",
       "        [7, 7, 6],\n",
       "        [4, 6, 3],\n",
       "        [2, 4, 4],\n",
       "        [8, 6, 7],\n",
       "        [3, 4, 2],\n",
       "        [5, 5, 2],\n",
       "        [8, 2, 5],\n",
       "        [2, 6, 3],\n",
       "        [5, 1, 3]]),\n",
       " array([[1, 0, 1, 0],\n",
       "        [1, 1, 0, 1],\n",
       "        [1, 1, 0, 1]]))"
      ]
     },
     "execution_count": 23,
     "metadata": {},
     "output_type": "execute_result"
    }
   ],
   "source": [
    "X = np.random.randint(1, 10, (15,3))\n",
    "B = np.random.randint(0, 2, (3,4))\n",
    "X,B"
   ]
  },
  {
   "cell_type": "code",
   "execution_count": 26,
   "metadata": {},
   "outputs": [
    {
     "data": {
      "text/plain": [
       "array([[ 9,  8,  1,  8],\n",
       "       [18,  9,  9,  9],\n",
       "       [15, 13,  2, 13],\n",
       "       [17, 13,  4, 13],\n",
       "       [13,  9,  4,  9],\n",
       "       [17, 14,  3, 14],\n",
       "       [20, 13,  7, 13],\n",
       "       [13,  9,  4,  9],\n",
       "       [10,  8,  2,  8],\n",
       "       [21, 13,  8, 13],\n",
       "       [ 9,  6,  3,  6],\n",
       "       [12,  7,  5,  7],\n",
       "       [15,  7,  8,  7],\n",
       "       [11,  9,  2,  9],\n",
       "       [ 9,  4,  5,  4]])"
      ]
     },
     "execution_count": 26,
     "metadata": {},
     "output_type": "execute_result"
    }
   ],
   "source": [
    "W = X@B\n",
    "W"
   ]
  },
  {
   "cell_type": "code",
   "execution_count": 28,
   "metadata": {},
   "outputs": [
    {
     "data": {
      "text/plain": [
       "array([[0.34615385, 0.30769231, 0.03846154, 0.30769231],\n",
       "       [0.4       , 0.2       , 0.2       , 0.2       ],\n",
       "       [0.34883721, 0.30232558, 0.04651163, 0.30232558],\n",
       "       [0.36170213, 0.27659574, 0.08510638, 0.27659574],\n",
       "       [0.37142857, 0.25714286, 0.11428571, 0.25714286],\n",
       "       [0.35416667, 0.29166667, 0.0625    , 0.29166667],\n",
       "       [0.37735849, 0.24528302, 0.13207547, 0.24528302],\n",
       "       [0.37142857, 0.25714286, 0.11428571, 0.25714286],\n",
       "       [0.35714286, 0.28571429, 0.07142857, 0.28571429],\n",
       "       [0.38181818, 0.23636364, 0.14545455, 0.23636364],\n",
       "       [0.375     , 0.25      , 0.125     , 0.25      ],\n",
       "       [0.38709677, 0.22580645, 0.16129032, 0.22580645],\n",
       "       [0.40540541, 0.18918919, 0.21621622, 0.18918919],\n",
       "       [0.35483871, 0.29032258, 0.06451613, 0.29032258],\n",
       "       [0.40909091, 0.18181818, 0.22727273, 0.18181818]])"
      ]
     },
     "execution_count": 28,
     "metadata": {},
     "output_type": "execute_result"
    }
   ],
   "source": [
    "W/W.sum(axis=1, keepdims = True)"
   ]
  },
  {
   "cell_type": "code",
   "execution_count": null,
   "metadata": {},
   "outputs": [],
   "source": []
  }
 ],
 "metadata": {
  "kernelspec": {
   "display_name": "Python 3",
   "language": "python",
   "name": "python3"
  },
  "language_info": {
   "codemirror_mode": {
    "name": "ipython",
    "version": 3
   },
   "file_extension": ".py",
   "mimetype": "text/x-python",
   "name": "python",
   "nbconvert_exporter": "python",
   "pygments_lexer": "ipython3",
   "version": "3.11.9"
  }
 },
 "nbformat": 4,
 "nbformat_minor": 2
}
