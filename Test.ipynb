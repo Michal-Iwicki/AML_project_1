{
 "cells": [
  {
   "cell_type": "code",
   "execution_count": 61,
   "metadata": {},
   "outputs": [],
   "source": [
    "import numpy as np\n",
    "\n",
    "def soft_thresholding(a, b):\n",
    "    return np.sign(a) * np.maximum(np.abs(a) - b, 0)\n",
    "\n",
    "def one_hot_encode(y, num_classes=None):\n",
    "    y = np.array(y)\n",
    "    if num_classes is None:\n",
    "        num_classes = np.max(y) + 1\n",
    "    \n",
    "    one_hot = np.zeros((len(y), num_classes))\n",
    "    one_hot[np.arange(len(y)), y] = 1\n",
    "    return one_hot\n",
    "\n",
    "\n",
    "class logisitic_regression():\n",
    "    def __init__(self):\n",
    "        pass\n",
    "    \n",
    "    def set_std_mean(self,X, epsilon = 1e-8):\n",
    "        self.mean = np.mean(X, axis = 0)\n",
    "        std = np.std(X,axis = 0)\n",
    "        self.std = np.where(std > 0, std, epsilon)\n",
    "\n",
    "    def standarize(self, X):\n",
    "        return (X-self.mean)/self.std\n",
    "        \n",
    "\n",
    "    def fit(self, X, y, a, lambd, times = 10, extinction = 0.1):\n",
    "        n, p = X.shape\n",
    "        X, y = np.array(X), np.array(y)\n",
    "        self.set_std_mean(X)\n",
    "        X = self.standarize(X)\n",
    "        y = one_hot_encode(y)\n",
    "        g = y.shape[1]\n",
    "        self.B = np.zeros((p,g))\n",
    "        for i in range(times):\n",
    "            #lambd *= extinction\n",
    "            for k in range(g):\n",
    "                for j in range(p):\n",
    "                    xj = X[:,j]\n",
    "                    #X = (X.T[self.B]).T jest tam opcja by olewać obliczenia dla zerowych bet to zrobić mniej więcej tak albo trzymać listę indeksów i na samych nich to robić\n",
    "                    #X = X[:,non_zero_beta]\n",
    "                    sum = (xj@(y[:,k])) - xj@X@(self.B[:,k]) + self.B[j,k]\n",
    "                    self.B[j,k]= soft_thresholding(sum/n,lambd*a)/(1+lambd*(1-a))\n",
    "\n",
    "    def predict_proba(self, X):\n",
    "        X = np.array(X)\n",
    "        X = self.standarize(X)\n",
    "        X = np.exp(X@self.B)\n",
    "        return X / X.sum(axis=1, keepdims=True)\n",
    "        "
   ]
  },
  {
   "cell_type": "code",
   "execution_count": 30,
   "metadata": {},
   "outputs": [],
   "source": [
    "from ucimlrepo import fetch_ucirepo\n",
    "import numpy as np\n",
    "\n",
    "rice_cammeo_and_osmancik = fetch_ucirepo(id=545) \n",
    "X_1 = np.array(rice_cammeo_and_osmancik.data.features) \n",
    "y_1 = (np.array(rice_cammeo_and_osmancik.data.targets).T[0]== \"Cammeo\").astype(int)"
   ]
  },
  {
   "cell_type": "code",
   "execution_count": 70,
   "metadata": {},
   "outputs": [
    {
     "data": {
      "text/plain": [
       "array([1, 1, 1, ..., 0, 0, 0])"
      ]
     },
     "execution_count": 70,
     "metadata": {},
     "output_type": "execute_result"
    }
   ],
   "source": [
    "y_1"
   ]
  },
  {
   "cell_type": "code",
   "execution_count": 89,
   "metadata": {},
   "outputs": [],
   "source": [
    "lr_test = logisitic_regression()\n",
    "lr_test.fit(X_1,y_1,1 ,0.1)"
   ]
  },
  {
   "cell_type": "code",
   "execution_count": 90,
   "metadata": {},
   "outputs": [
    {
     "data": {
      "text/plain": [
       "array([[-0.03315889,  0.03315889],\n",
       "       [-0.06549224,  0.06549224],\n",
       "       [-0.02104434,  0.02104434],\n",
       "       [-0.        ,  0.        ],\n",
       "       [-0.01468034,  0.01468034],\n",
       "       [-0.0674756 ,  0.0674756 ],\n",
       "       [ 0.        , -0.        ]])"
      ]
     },
     "execution_count": 90,
     "metadata": {},
     "output_type": "execute_result"
    }
   ],
   "source": [
    "lr_test.B"
   ]
  },
  {
   "cell_type": "code",
   "execution_count": 91,
   "metadata": {},
   "outputs": [],
   "source": [
    "pred = lr_test.predict_proba(X_1).round()[:,1]"
   ]
  },
  {
   "cell_type": "code",
   "execution_count": 92,
   "metadata": {},
   "outputs": [
    {
     "data": {
      "text/plain": [
       "0.9044619422572179"
      ]
     },
     "execution_count": 92,
     "metadata": {},
     "output_type": "execute_result"
    }
   ],
   "source": [
    "np.mean(y_1==pred)"
   ]
  },
  {
   "cell_type": "code",
   "execution_count": null,
   "metadata": {},
   "outputs": [],
   "source": []
  }
 ],
 "metadata": {
  "kernelspec": {
   "display_name": "Python 3",
   "language": "python",
   "name": "python3"
  },
  "language_info": {
   "codemirror_mode": {
    "name": "ipython",
    "version": 3
   },
   "file_extension": ".py",
   "mimetype": "text/x-python",
   "name": "python",
   "nbconvert_exporter": "python",
   "pygments_lexer": "ipython3",
   "version": "3.11.9"
  }
 },
 "nbformat": 4,
 "nbformat_minor": 2
}
