{
 "cells": [
  {
   "cell_type": "code",
   "execution_count": 1,
   "id": "28ee9aa9",
   "metadata": {},
   "outputs": [],
   "source": [
    "import pandas as pd\n",
    "import numpy as np\n",
    "X_train = pd.read_csv(\"data/x_train.txt\",header=None,sep=\" \")\n",
    "y_train = pd.read_csv(\"data/y_train.txt\",header=None,sep=\" \")"
   ]
  },
  {
   "cell_type": "code",
   "execution_count": null,
   "id": "9f6f9470",
   "metadata": {},
   "outputs": [
    {
     "name": "stderr",
     "output_type": "stream",
     "text": [
      "C:\\Users\\Michał\\AppData\\Local\\Packages\\PythonSoftwareFoundation.Python.3.11_qbz5n2kfra8p0\\LocalCache\\local-packages\\Python311\\site-packages\\sklearn\\utils\\validation.py:1300: DataConversionWarning: A column-vector y was passed when a 1d array was expected. Please change the shape of y to (n_samples, ), for example using ravel().\n",
      "  y = column_or_1d(y, warn=True)\n"
     ]
    },
    {
     "data": {
      "application/vnd.microsoft.datawrangler.viewer.v0+json": {
       "columns": [
        {
         "name": "index",
         "rawType": "int64",
         "type": "integer"
        },
        {
         "name": "Feature",
         "rawType": "int64",
         "type": "integer"
        },
        {
         "name": "p_values",
         "rawType": "float64",
         "type": "float"
        }
       ],
       "conversionMethod": "pd.DataFrame",
       "ref": "2148f6d5-f9b6-4e5b-8097-cba8c6ef2acb",
       "rows": [
        [
         "111",
         "111",
         "0.9997675525929053"
        ],
        [
         "296",
         "296",
         "0.9991506439759337"
        ],
        [
         "448",
         "448",
         "0.9977965109987402"
        ],
        [
         "53",
         "53",
         "0.9975326546275138"
        ],
        [
         "466",
         "466",
         "0.9944021464306897"
        ],
        [
         "282",
         "282",
         "0.992692786209852"
        ],
        [
         "370",
         "370",
         "0.9909179731932305"
        ],
        [
         "230",
         "230",
         "0.9900502645410016"
        ],
        [
         "431",
         "431",
         "0.9885772456418179"
        ],
        [
         "161",
         "161",
         "0.9863060772035582"
        ],
        [
         "428",
         "428",
         "0.9853229014648553"
        ],
        [
         "160",
         "160",
         "0.9851030356479236"
        ],
        [
         "28",
         "28",
         "0.9840099284866782"
        ],
        [
         "143",
         "143",
         "0.9840093865450236"
        ],
        [
         "221",
         "221",
         "0.9815572842519875"
        ],
        [
         "118",
         "118",
         "0.9798520394455695"
        ],
        [
         "388",
         "388",
         "0.9779434908715027"
        ],
        [
         "75",
         "75",
         "0.9757786245841213"
        ],
        [
         "40",
         "40",
         "0.9753558397595075"
        ],
        [
         "449",
         "449",
         "0.9752613804282292"
        ],
        [
         "393",
         "393",
         "0.972813142176247"
        ],
        [
         "239",
         "239",
         "0.9685930511698392"
        ],
        [
         "382",
         "382",
         "0.9667121562302982"
        ],
        [
         "457",
         "457",
         "0.9639602573899649"
        ],
        [
         "10",
         "10",
         "0.9607114802100502"
        ],
        [
         "233",
         "233",
         "0.9598826126704638"
        ],
        [
         "333",
         "333",
         "0.9591445958610575"
        ],
        [
         "464",
         "464",
         "0.9587706330603185"
        ],
        [
         "326",
         "326",
         "0.9555582630587142"
        ],
        [
         "125",
         "125",
         "0.9513604549876554"
        ],
        [
         "278",
         "278",
         "0.9513204711887071"
        ],
        [
         "132",
         "132",
         "0.9493816610685432"
        ],
        [
         "322",
         "322",
         "0.9492737931039996"
        ],
        [
         "442",
         "442",
         "0.9475871973679322"
        ],
        [
         "456",
         "456",
         "0.9460292093681776"
        ],
        [
         "94",
         "94",
         "0.9436089945444197"
        ],
        [
         "151",
         "151",
         "0.9423953587775212"
        ],
        [
         "244",
         "244",
         "0.9387663302881639"
        ],
        [
         "380",
         "380",
         "0.9364918269564493"
        ],
        [
         "98",
         "98",
         "0.9347088023338488"
        ],
        [
         "247",
         "247",
         "0.934464758875704"
        ],
        [
         "129",
         "129",
         "0.931469814820338"
        ],
        [
         "423",
         "423",
         "0.9284440870949217"
        ],
        [
         "299",
         "299",
         "0.9281295030251118"
        ],
        [
         "34",
         "34",
         "0.9272880579137651"
        ],
        [
         "138",
         "138",
         "0.9264956409810123"
        ],
        [
         "16",
         "16",
         "0.9247870848302467"
        ],
        [
         "276",
         "276",
         "0.9224462172902647"
        ],
        [
         "379",
         "379",
         "0.9222795488507596"
        ],
        [
         "383",
         "383",
         "0.9214213185372779"
        ]
       ],
       "shape": {
        "columns": 2,
        "rows": 500
       }
      },
      "text/html": [
       "<div>\n",
       "<style scoped>\n",
       "    .dataframe tbody tr th:only-of-type {\n",
       "        vertical-align: middle;\n",
       "    }\n",
       "\n",
       "    .dataframe tbody tr th {\n",
       "        vertical-align: top;\n",
       "    }\n",
       "\n",
       "    .dataframe thead th {\n",
       "        text-align: right;\n",
       "    }\n",
       "</style>\n",
       "<table border=\"1\" class=\"dataframe\">\n",
       "  <thead>\n",
       "    <tr style=\"text-align: right;\">\n",
       "      <th></th>\n",
       "      <th>Feature</th>\n",
       "      <th>p_values</th>\n",
       "    </tr>\n",
       "  </thead>\n",
       "  <tbody>\n",
       "    <tr>\n",
       "      <th>111</th>\n",
       "      <td>111</td>\n",
       "      <td>9.997676e-01</td>\n",
       "    </tr>\n",
       "    <tr>\n",
       "      <th>296</th>\n",
       "      <td>296</td>\n",
       "      <td>9.991506e-01</td>\n",
       "    </tr>\n",
       "    <tr>\n",
       "      <th>448</th>\n",
       "      <td>448</td>\n",
       "      <td>9.977965e-01</td>\n",
       "    </tr>\n",
       "    <tr>\n",
       "      <th>53</th>\n",
       "      <td>53</td>\n",
       "      <td>9.975327e-01</td>\n",
       "    </tr>\n",
       "    <tr>\n",
       "      <th>466</th>\n",
       "      <td>466</td>\n",
       "      <td>9.944021e-01</td>\n",
       "    </tr>\n",
       "    <tr>\n",
       "      <th>...</th>\n",
       "      <td>...</td>\n",
       "      <td>...</td>\n",
       "    </tr>\n",
       "    <tr>\n",
       "      <th>4</th>\n",
       "      <td>4</td>\n",
       "      <td>7.587568e-117</td>\n",
       "    </tr>\n",
       "    <tr>\n",
       "      <th>7</th>\n",
       "      <td>7</td>\n",
       "      <td>1.062914e-119</td>\n",
       "    </tr>\n",
       "    <tr>\n",
       "      <th>6</th>\n",
       "      <td>6</td>\n",
       "      <td>1.980223e-134</td>\n",
       "    </tr>\n",
       "    <tr>\n",
       "      <th>3</th>\n",
       "      <td>3</td>\n",
       "      <td>2.693812e-135</td>\n",
       "    </tr>\n",
       "    <tr>\n",
       "      <th>2</th>\n",
       "      <td>2</td>\n",
       "      <td>1.658213e-166</td>\n",
       "    </tr>\n",
       "  </tbody>\n",
       "</table>\n",
       "<p>500 rows × 2 columns</p>\n",
       "</div>"
      ],
      "text/plain": [
       "     Feature       p_values\n",
       "111      111   9.997676e-01\n",
       "296      296   9.991506e-01\n",
       "448      448   9.977965e-01\n",
       "53        53   9.975327e-01\n",
       "466      466   9.944021e-01\n",
       "..       ...            ...\n",
       "4          4  7.587568e-117\n",
       "7          7  1.062914e-119\n",
       "6          6  1.980223e-134\n",
       "3          3  2.693812e-135\n",
       "2          2  1.658213e-166\n",
       "\n",
       "[500 rows x 2 columns]"
      ]
     },
     "execution_count": 2,
     "metadata": {},
     "output_type": "execute_result"
    }
   ],
   "source": [
    "import pandas as pd\n",
    "import numpy as np\n",
    "from sklearn.feature_selection import f_classif\n",
    "import matplotlib.pyplot as plt\n",
    "import seaborn as sns\n",
    "f_values, p_values = f_classif(X_train, y_train)\n",
    "\n",
    "\n",
    "anova_df = pd.DataFrame({\n",
    "    'Feature': range(len(p_values)),  \n",
    "    'p_values': p_values\n",
    "})\n",
    "anova_df.sort_values('p_values',ascending=False)"
   ]
  },
  {
   "cell_type": "code",
   "execution_count": null,
   "id": "187cc736",
   "metadata": {},
   "outputs": [
    {
     "name": "stdout",
     "output_type": "stream",
     "text": [
      "Testing on 1 features\n",
      "7018.344965104686\n",
      "Testing on 2 features\n",
      "6559.999999999999\n",
      "Testing on 3 features\n",
      "6379.999999999999\n",
      "Testing on 4 features\n",
      "6330.0\n",
      "Testing on 5 features\n",
      "6199.999999999999\n",
      "Testing on 6 features\n",
      "6010.0\n",
      "Testing on 7 features\n",
      "5780.0\n",
      "Testing on 8 features\n",
      "5460.0\n",
      "Testing on 9 features\n",
      "5460.0\n",
      "Testing on 10 features\n",
      "5330.0\n",
      "Testing on 11 features\n",
      "5100.0\n",
      "Testing on 12 features\n",
      "4900.0\n",
      "Testing on 13 features\n",
      "4660.0\n",
      "Testing on 14 features\n",
      "4429.999999999999\n",
      "Testing on 15 features\n",
      "4260.0\n"
     ]
    }
   ],
   "source": [
    "import numpy as np\n",
    "import pandas as pd\n",
    "from sklearn.feature_selection import RFE\n",
    "from xgboost import XGBClassifier\n",
    "from sklearn.model_selection import StratifiedKFold\n",
    "from sklearn.metrics import precision_score\n",
    "\n",
    "\n",
    "def evaluate_rfe_with_custom_score(X, y, step=1, min_features=1, max_features=15, cv=5):\n",
    "    y= np.array(y)\n",
    "    num_target=1000\n",
    "    n_splits = 5\n",
    "    for n_features in range(min_features, max_features + 1, step):\n",
    "        print(f\"Testing on {n_features} features\")\n",
    "        model = XGBClassifier()\n",
    "        selector = RFE(estimator=model, n_features_to_select=n_features, step=0.25, verbose=0)\n",
    "        selector.fit(X, y)\n",
    "        X_selected = selector.transform(X)\n",
    "        X_selected = np.array(X_selected)\n",
    "        cv = StratifiedKFold(n_splits=n_splits, shuffle=True, random_state=42)\n",
    "        probas = np.zeros(X.shape[0])  \n",
    "\n",
    "        for train_idx, test_idx in cv.split(X_selected, y):\n",
    "            X_train, X_val = X_selected[train_idx,], X_selected[test_idx,]\n",
    "            y_train, y_val = y[train_idx], y[test_idx]\n",
    "    \n",
    "            model = XGBClassifier(\n",
    "            )\n",
    "            \n",
    "            model.fit(\n",
    "                X_train, y_train,\n",
    "                verbose=False\n",
    "            )\n",
    "            \n",
    "            probas[test_idx] = model.predict_proba(X_val)[:,1]\n",
    "\n",
    "        sorted_probas = np.sort(probas)[::-1]  \n",
    "        threshold = sorted_probas[num_target - 1]\n",
    "\n",
    "        y_pred = (probas >= threshold).astype(int)\n",
    "        gain = 10*precision_score(y, y_pred)*num_target\n",
    "        print (gain - 200*n_features)\n",
    "\n",
    "results = evaluate_rfe_with_custom_score(X_train, y_train)\n",
    "\n"
   ]
  },
  {
   "cell_type": "code",
   "execution_count": null,
   "id": "135998e1",
   "metadata": {},
   "outputs": [],
   "source": []
  }
 ],
 "metadata": {
  "kernelspec": {
   "display_name": "Python 3",
   "language": "python",
   "name": "python3"
  },
  "language_info": {
   "codemirror_mode": {
    "name": "ipython",
    "version": 3
   },
   "file_extension": ".py",
   "mimetype": "text/x-python",
   "name": "python",
   "nbconvert_exporter": "python",
   "pygments_lexer": "ipython3",
   "version": "3.11.9"
  }
 },
 "nbformat": 4,
 "nbformat_minor": 5
}
