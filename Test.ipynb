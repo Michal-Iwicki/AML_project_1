{
 "cells": [
  {
   "cell_type": "code",
   "execution_count": 5,
   "metadata": {},
   "outputs": [
    {
     "data": {
      "text/plain": [
       "array([[0.],\n",
       "       [0.],\n",
       "       [0.],\n",
       "       [0.],\n",
       "       [0.]])"
      ]
     },
     "execution_count": 5,
     "metadata": {},
     "output_type": "execute_result"
    }
   ],
   "source": [
    "import numpy as np\n",
    "z = np.zeros((5,1))\n",
    "z.shape\n",
    "z"
   ]
  },
  {
   "cell_type": "code",
   "execution_count": null,
   "metadata": {},
   "outputs": [],
   "source": [
    "import numpy as np\n",
    "\n",
    "def soft_thresholding(a, b):\n",
    "    return np.sign(a) * np.maximum(np.abs(a) - b, 0)\n",
    "\n",
    "\n",
    "\n",
    "class logisitic_regression():\n",
    "    def __init__(self):\n",
    "        pass\n",
    "    \n",
    "    def set_std_mean(self,X, epsilon = 1e-8):\n",
    "        self.mean = np.mean(X, axis = 0)\n",
    "        std = np.std(X,axis = 0)\n",
    "        self.std = np.where(std > 0, std, epsilon)\n",
    "\n",
    "    def standarize(self, X):\n",
    "        return (X-self.mean)/self.std\n",
    "        \n",
    "\n",
    "    def fit(self, X, y, a, lambd, times = 10):\n",
    "        n, p = X.shape\n",
    "        self.B = np.zeros(p)\n",
    "        X, y = np.array(X), np.array(y)\n",
    "        X = self.standarize(X)\n",
    "        g = y.shape[2]\n",
    "        for i in range(times):\n",
    "            for k in range(g):\n",
    "                for j in range(p):\n",
    "                    xj = X[:,j]\n",
    "                    #X = (X.T[self.B]).T jest tam opcja by olewać obliczenia dla zerowych bet to tak można to zrobić mniej więcej\n",
    "                    sum = (xj@y[:,k]) - xj@X@self.B + self.B[j]\n",
    "                    self.B[j]= soft_thresholding(sum/n,lambd*a)/(1+lambd*(1-a))\n"
   ]
  },
  {
   "cell_type": "code",
   "execution_count": null,
   "metadata": {},
   "outputs": [],
   "source": []
  }
 ],
 "metadata": {
  "kernelspec": {
   "display_name": "Python 3",
   "language": "python",
   "name": "python3"
  },
  "language_info": {
   "codemirror_mode": {
    "name": "ipython",
    "version": 3
   },
   "file_extension": ".py",
   "mimetype": "text/x-python",
   "name": "python",
   "nbconvert_exporter": "python",
   "pygments_lexer": "ipython3",
   "version": "3.11.9"
  }
 },
 "nbformat": 4,
 "nbformat_minor": 2
}
