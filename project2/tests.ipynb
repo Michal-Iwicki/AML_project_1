{
 "cells": [
  {
   "cell_type": "code",
   "execution_count": 7,
   "id": "28ee9aa9",
   "metadata": {},
   "outputs": [],
   "source": [
    "import pandas as pd\n",
    "import numpy as np\n",
    "X_train = pd.read_csv(\"data/x_train.txt\",header=None,sep=\" \")\n",
    "y_train = pd.read_csv(\"data/y_train.txt\",header=None,sep=\" \")"
   ]
  },
  {
   "cell_type": "code",
   "execution_count": null,
   "id": "9f6f9470",
   "metadata": {},
   "outputs": [
    {
     "name": "stderr",
     "output_type": "stream",
     "text": [
      "C:\\Users\\Michał\\AppData\\Local\\Packages\\PythonSoftwareFoundation.Python.3.11_qbz5n2kfra8p0\\LocalCache\\local-packages\\Python311\\site-packages\\sklearn\\utils\\validation.py:1300: DataConversionWarning: A column-vector y was passed when a 1d array was expected. Please change the shape of y to (n_samples, ), for example using ravel().\n",
      "  y = column_or_1d(y, warn=True)\n"
     ]
    },
    {
     "data": {
      "application/vnd.microsoft.datawrangler.viewer.v0+json": {
       "columns": [
        {
         "name": "index",
         "rawType": "int64",
         "type": "integer"
        },
        {
         "name": "Feature",
         "rawType": "int64",
         "type": "integer"
        },
        {
         "name": "p_values",
         "rawType": "float64",
         "type": "float"
        }
       ],
       "conversionMethod": "pd.DataFrame",
       "ref": "bf1da0a5-fdf9-47b8-838d-dfca8e9abf5b",
       "rows": [
        [
         "111",
         "111",
         "0.9997675525929053"
        ],
        [
         "296",
         "296",
         "0.9991506439759337"
        ],
        [
         "448",
         "448",
         "0.9977965109987402"
        ],
        [
         "53",
         "53",
         "0.9975326546275138"
        ],
        [
         "466",
         "466",
         "0.9944021464306897"
        ],
        [
         "282",
         "282",
         "0.992692786209852"
        ],
        [
         "370",
         "370",
         "0.9909179731932305"
        ],
        [
         "230",
         "230",
         "0.9900502645410016"
        ],
        [
         "431",
         "431",
         "0.9885772456418179"
        ],
        [
         "161",
         "161",
         "0.9863060772035582"
        ],
        [
         "428",
         "428",
         "0.9853229014648553"
        ],
        [
         "160",
         "160",
         "0.9851030356479236"
        ],
        [
         "28",
         "28",
         "0.9840099284866782"
        ],
        [
         "143",
         "143",
         "0.9840093865450236"
        ],
        [
         "221",
         "221",
         "0.9815572842519875"
        ],
        [
         "118",
         "118",
         "0.9798520394455695"
        ],
        [
         "388",
         "388",
         "0.9779434908715027"
        ],
        [
         "75",
         "75",
         "0.9757786245841213"
        ],
        [
         "40",
         "40",
         "0.9753558397595075"
        ],
        [
         "449",
         "449",
         "0.9752613804282292"
        ],
        [
         "393",
         "393",
         "0.972813142176247"
        ],
        [
         "239",
         "239",
         "0.9685930511698392"
        ],
        [
         "382",
         "382",
         "0.9667121562302982"
        ],
        [
         "457",
         "457",
         "0.9639602573899649"
        ],
        [
         "10",
         "10",
         "0.9607114802100502"
        ],
        [
         "233",
         "233",
         "0.9598826126704638"
        ],
        [
         "333",
         "333",
         "0.9591445958610575"
        ],
        [
         "464",
         "464",
         "0.9587706330603185"
        ],
        [
         "326",
         "326",
         "0.9555582630587142"
        ],
        [
         "125",
         "125",
         "0.9513604549876554"
        ],
        [
         "278",
         "278",
         "0.9513204711887071"
        ],
        [
         "132",
         "132",
         "0.9493816610685432"
        ],
        [
         "322",
         "322",
         "0.9492737931039996"
        ],
        [
         "442",
         "442",
         "0.9475871973679322"
        ],
        [
         "456",
         "456",
         "0.9460292093681776"
        ],
        [
         "94",
         "94",
         "0.9436089945444197"
        ],
        [
         "151",
         "151",
         "0.9423953587775212"
        ],
        [
         "244",
         "244",
         "0.9387663302881639"
        ],
        [
         "380",
         "380",
         "0.9364918269564493"
        ],
        [
         "98",
         "98",
         "0.9347088023338488"
        ],
        [
         "247",
         "247",
         "0.934464758875704"
        ],
        [
         "129",
         "129",
         "0.931469814820338"
        ],
        [
         "423",
         "423",
         "0.9284440870949217"
        ],
        [
         "299",
         "299",
         "0.9281295030251118"
        ],
        [
         "34",
         "34",
         "0.9272880579137651"
        ],
        [
         "138",
         "138",
         "0.9264956409810123"
        ],
        [
         "16",
         "16",
         "0.9247870848302467"
        ],
        [
         "276",
         "276",
         "0.9224462172902647"
        ],
        [
         "379",
         "379",
         "0.9222795488507596"
        ],
        [
         "383",
         "383",
         "0.9214213185372779"
        ]
       ],
       "shape": {
        "columns": 2,
        "rows": 463
       }
      },
      "text/html": [
       "<div>\n",
       "<style scoped>\n",
       "    .dataframe tbody tr th:only-of-type {\n",
       "        vertical-align: middle;\n",
       "    }\n",
       "\n",
       "    .dataframe tbody tr th {\n",
       "        vertical-align: top;\n",
       "    }\n",
       "\n",
       "    .dataframe thead th {\n",
       "        text-align: right;\n",
       "    }\n",
       "</style>\n",
       "<table border=\"1\" class=\"dataframe\">\n",
       "  <thead>\n",
       "    <tr style=\"text-align: right;\">\n",
       "      <th></th>\n",
       "      <th>Feature</th>\n",
       "      <th>p_values</th>\n",
       "    </tr>\n",
       "  </thead>\n",
       "  <tbody>\n",
       "    <tr>\n",
       "      <th>111</th>\n",
       "      <td>111</td>\n",
       "      <td>0.999768</td>\n",
       "    </tr>\n",
       "    <tr>\n",
       "      <th>296</th>\n",
       "      <td>296</td>\n",
       "      <td>0.999151</td>\n",
       "    </tr>\n",
       "    <tr>\n",
       "      <th>448</th>\n",
       "      <td>448</td>\n",
       "      <td>0.997797</td>\n",
       "    </tr>\n",
       "    <tr>\n",
       "      <th>53</th>\n",
       "      <td>53</td>\n",
       "      <td>0.997533</td>\n",
       "    </tr>\n",
       "    <tr>\n",
       "      <th>466</th>\n",
       "      <td>466</td>\n",
       "      <td>0.994402</td>\n",
       "    </tr>\n",
       "    <tr>\n",
       "      <th>...</th>\n",
       "      <td>...</td>\n",
       "      <td>...</td>\n",
       "    </tr>\n",
       "    <tr>\n",
       "      <th>459</th>\n",
       "      <td>459</td>\n",
       "      <td>0.067997</td>\n",
       "    </tr>\n",
       "    <tr>\n",
       "      <th>158</th>\n",
       "      <td>158</td>\n",
       "      <td>0.062945</td>\n",
       "    </tr>\n",
       "    <tr>\n",
       "      <th>253</th>\n",
       "      <td>253</td>\n",
       "      <td>0.059561</td>\n",
       "    </tr>\n",
       "    <tr>\n",
       "      <th>109</th>\n",
       "      <td>109</td>\n",
       "      <td>0.053987</td>\n",
       "    </tr>\n",
       "    <tr>\n",
       "      <th>133</th>\n",
       "      <td>133</td>\n",
       "      <td>0.051185</td>\n",
       "    </tr>\n",
       "  </tbody>\n",
       "</table>\n",
       "<p>463 rows × 2 columns</p>\n",
       "</div>"
      ],
      "text/plain": [
       "     Feature  p_values\n",
       "111      111  0.999768\n",
       "296      296  0.999151\n",
       "448      448  0.997797\n",
       "53        53  0.997533\n",
       "466      466  0.994402\n",
       "..       ...       ...\n",
       "459      459  0.067997\n",
       "158      158  0.062945\n",
       "253      253  0.059561\n",
       "109      109  0.053987\n",
       "133      133  0.051185\n",
       "\n",
       "[463 rows x 2 columns]"
      ]
     },
     "execution_count": 26,
     "metadata": {},
     "output_type": "execute_result"
    }
   ],
   "source": [
    "import pandas as pd\n",
    "import numpy as np\n",
    "from sklearn.feature_selection import f_classif\n",
    "import matplotlib.pyplot as plt\n",
    "import seaborn as sns\n",
    "f_values, p_values = f_classif(X_train, y_train)\n",
    "\n",
    "\n",
    "anova_df = pd.DataFrame({\n",
    "    'Feature': range(len(p_values)),  # numer cechy\n",
    "    'p_values': p_values\n",
    "})\n",
    "anova_df.sort_values('p_values',ascending=False)"
   ]
  },
  {
   "cell_type": "code",
   "execution_count": 27,
   "id": "ac098fa1",
   "metadata": {},
   "outputs": [
    {
     "data": {
      "application/vnd.microsoft.datawrangler.viewer.v0+json": {
       "columns": [
        {
         "name": "index",
         "rawType": "int64",
         "type": "integer"
        },
        {
         "name": "0",
         "rawType": "int64",
         "type": "integer"
        }
       ],
       "conversionMethod": "pd.DataFrame",
       "ref": "e6e7fdf2-07f9-4709-b732-dc51d51c6eee",
       "rows": [
        [
         "0",
         "1"
        ],
        [
         "1",
         "0"
        ],
        [
         "2",
         "0"
        ],
        [
         "3",
         "1"
        ],
        [
         "4",
         "1"
        ],
        [
         "5",
         "0"
        ],
        [
         "6",
         "1"
        ],
        [
         "7",
         "1"
        ],
        [
         "8",
         "0"
        ],
        [
         "9",
         "0"
        ],
        [
         "10",
         "0"
        ],
        [
         "11",
         "0"
        ],
        [
         "12",
         "0"
        ],
        [
         "13",
         "0"
        ],
        [
         "14",
         "0"
        ],
        [
         "15",
         "1"
        ],
        [
         "16",
         "0"
        ],
        [
         "17",
         "1"
        ],
        [
         "18",
         "0"
        ],
        [
         "19",
         "1"
        ],
        [
         "20",
         "0"
        ],
        [
         "21",
         "1"
        ],
        [
         "22",
         "1"
        ],
        [
         "23",
         "1"
        ],
        [
         "24",
         "1"
        ],
        [
         "25",
         "1"
        ],
        [
         "26",
         "0"
        ],
        [
         "27",
         "0"
        ],
        [
         "28",
         "0"
        ],
        [
         "29",
         "0"
        ],
        [
         "30",
         "1"
        ],
        [
         "31",
         "1"
        ],
        [
         "32",
         "0"
        ],
        [
         "33",
         "0"
        ],
        [
         "34",
         "0"
        ],
        [
         "35",
         "1"
        ],
        [
         "36",
         "1"
        ],
        [
         "37",
         "1"
        ],
        [
         "38",
         "0"
        ],
        [
         "39",
         "0"
        ],
        [
         "40",
         "0"
        ],
        [
         "41",
         "1"
        ],
        [
         "42",
         "1"
        ],
        [
         "43",
         "1"
        ],
        [
         "44",
         "1"
        ],
        [
         "45",
         "1"
        ],
        [
         "46",
         "0"
        ],
        [
         "47",
         "1"
        ],
        [
         "48",
         "0"
        ],
        [
         "49",
         "1"
        ]
       ],
       "shape": {
        "columns": 1,
        "rows": 5000
       }
      },
      "text/html": [
       "<div>\n",
       "<style scoped>\n",
       "    .dataframe tbody tr th:only-of-type {\n",
       "        vertical-align: middle;\n",
       "    }\n",
       "\n",
       "    .dataframe tbody tr th {\n",
       "        vertical-align: top;\n",
       "    }\n",
       "\n",
       "    .dataframe thead th {\n",
       "        text-align: right;\n",
       "    }\n",
       "</style>\n",
       "<table border=\"1\" class=\"dataframe\">\n",
       "  <thead>\n",
       "    <tr style=\"text-align: right;\">\n",
       "      <th></th>\n",
       "      <th>0</th>\n",
       "    </tr>\n",
       "  </thead>\n",
       "  <tbody>\n",
       "    <tr>\n",
       "      <th>0</th>\n",
       "      <td>1</td>\n",
       "    </tr>\n",
       "    <tr>\n",
       "      <th>1</th>\n",
       "      <td>0</td>\n",
       "    </tr>\n",
       "    <tr>\n",
       "      <th>2</th>\n",
       "      <td>0</td>\n",
       "    </tr>\n",
       "    <tr>\n",
       "      <th>3</th>\n",
       "      <td>1</td>\n",
       "    </tr>\n",
       "    <tr>\n",
       "      <th>4</th>\n",
       "      <td>1</td>\n",
       "    </tr>\n",
       "    <tr>\n",
       "      <th>...</th>\n",
       "      <td>...</td>\n",
       "    </tr>\n",
       "    <tr>\n",
       "      <th>4995</th>\n",
       "      <td>0</td>\n",
       "    </tr>\n",
       "    <tr>\n",
       "      <th>4996</th>\n",
       "      <td>0</td>\n",
       "    </tr>\n",
       "    <tr>\n",
       "      <th>4997</th>\n",
       "      <td>0</td>\n",
       "    </tr>\n",
       "    <tr>\n",
       "      <th>4998</th>\n",
       "      <td>1</td>\n",
       "    </tr>\n",
       "    <tr>\n",
       "      <th>4999</th>\n",
       "      <td>0</td>\n",
       "    </tr>\n",
       "  </tbody>\n",
       "</table>\n",
       "<p>5000 rows × 1 columns</p>\n",
       "</div>"
      ],
      "text/plain": [
       "      0\n",
       "0     1\n",
       "1     0\n",
       "2     0\n",
       "3     1\n",
       "4     1\n",
       "...  ..\n",
       "4995  0\n",
       "4996  0\n",
       "4997  0\n",
       "4998  1\n",
       "4999  0\n",
       "\n",
       "[5000 rows x 1 columns]"
      ]
     },
     "execution_count": 27,
     "metadata": {},
     "output_type": "execute_result"
    }
   ],
   "source": [
    "y_train"
   ]
  },
  {
   "cell_type": "code",
   "execution_count": null,
   "id": "1d235d08",
   "metadata": {},
   "outputs": [],
   "source": []
  }
 ],
 "metadata": {
  "kernelspec": {
   "display_name": "Python 3",
   "language": "python",
   "name": "python3"
  },
  "language_info": {
   "codemirror_mode": {
    "name": "ipython",
    "version": 3
   },
   "file_extension": ".py",
   "mimetype": "text/x-python",
   "name": "python",
   "nbconvert_exporter": "python",
   "pygments_lexer": "ipython3",
   "version": "3.11.9"
  }
 },
 "nbformat": 4,
 "nbformat_minor": 5
}
