{
 "cells": [
  {
   "cell_type": "code",
   "execution_count": 1,
   "metadata": {},
   "outputs": [],
   "source": [
    "from ucimlrepo import fetch_ucirepo\n",
    "from Implementation import logisitic_regression\n",
    "import numpy as np\n",
    "\n",
    "rice_cammeo_and_osmancik = fetch_ucirepo(id=545) \n",
    "X_1 = np.array(rice_cammeo_and_osmancik.data.features) \n",
    "y_1 = (np.array(rice_cammeo_and_osmancik.data.targets).T[0]== \"Cammeo\").astype(int)"
   ]
  },
  {
   "cell_type": "code",
   "execution_count": 2,
   "metadata": {},
   "outputs": [],
   "source": [
    "lr_test = logisitic_regression()\n",
    "lr_test.fit(X_1,y_1,a = 1, weights=True)"
   ]
  },
  {
   "cell_type": "code",
   "execution_count": 12,
   "metadata": {},
   "outputs": [],
   "source": [
    "pred = lr_test.predict(X_1)"
   ]
  },
  {
   "cell_type": "code",
   "execution_count": 13,
   "metadata": {},
   "outputs": [
    {
     "data": {
      "text/plain": [
       "0.9094488188976378"
      ]
     },
     "execution_count": 13,
     "metadata": {},
     "output_type": "execute_result"
    }
   ],
   "source": [
    "np.mean(y_1==pred)"
   ]
  },
  {
   "cell_type": "code",
   "execution_count": 5,
   "metadata": {},
   "outputs": [
    {
     "data": {
      "text/plain": [
       "array([[-9.63738819e-05,  9.63795184e-05],\n",
       "       [-1.04182867e-04,  1.04191508e-04],\n",
       "       [-1.06943628e-04,  1.06954887e-04],\n",
       "       [-4.75920810e-05,  4.75874043e-05],\n",
       "       [-7.59689282e-05,  7.59854790e-05],\n",
       "       [-9.68962944e-05,  9.69019429e-05],\n",
       "       [ 1.48373243e-05, -1.48412247e-05]])"
      ]
     },
     "execution_count": 5,
     "metadata": {},
     "output_type": "execute_result"
    }
   ],
   "source": [
    "lr_test.B"
   ]
  },
  {
   "cell_type": "code",
   "execution_count": null,
   "metadata": {},
   "outputs": [],
   "source": []
  }
 ],
 "metadata": {
  "kernelspec": {
   "display_name": "Python 3",
   "language": "python",
   "name": "python3"
  },
  "language_info": {
   "codemirror_mode": {
    "name": "ipython",
    "version": 3
   },
   "file_extension": ".py",
   "mimetype": "text/x-python",
   "name": "python",
   "nbconvert_exporter": "python",
   "pygments_lexer": "ipython3",
   "version": "3.11.9"
  }
 },
 "nbformat": 4,
 "nbformat_minor": 2
}
