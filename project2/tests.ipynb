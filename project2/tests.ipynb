{
 "cells": [
  {
   "cell_type": "code",
   "execution_count": 2,
   "id": "28ee9aa9",
   "metadata": {},
   "outputs": [],
   "source": [
    "import pandas as pd\n",
    "import numpy as np\n",
    "X_train = pd.read_csv(\"data/x_train.txt\",header=None,sep=\" \")\n",
    "y_train = pd.read_csv(\"data/y_train.txt\",header=None,sep=\" \")"
   ]
  },
  {
   "cell_type": "code",
   "execution_count": 3,
   "id": "9f6f9470",
   "metadata": {},
   "outputs": [
    {
     "name": "stderr",
     "output_type": "stream",
     "text": [
      "c:\\Users\\Micha\\anaconda3\\envs\\idp\\Lib\\site-packages\\sklearn\\utils\\validation.py:1408: DataConversionWarning: A column-vector y was passed when a 1d array was expected. Please change the shape of y to (n_samples, ), for example using ravel().\n",
      "  y = column_or_1d(y, warn=True)\n"
     ]
    },
    {
     "data": {
      "application/vnd.microsoft.datawrangler.viewer.v0+json": {
       "columns": [
        {
         "name": "index",
         "rawType": "int64",
         "type": "integer"
        },
        {
         "name": "Feature",
         "rawType": "int64",
         "type": "integer"
        },
        {
         "name": "p_values",
         "rawType": "float64",
         "type": "float"
        }
       ],
       "conversionMethod": "pd.DataFrame",
       "ref": "1a61a936-13f7-4450-a118-602d9f86df20",
       "rows": [
        [
         "111",
         "111",
         "0.9997675525929053"
        ],
        [
         "296",
         "296",
         "0.9991506439759337"
        ],
        [
         "448",
         "448",
         "0.9977965109987402"
        ],
        [
         "53",
         "53",
         "0.9975326546275138"
        ],
        [
         "466",
         "466",
         "0.9944021464306897"
        ],
        [
         "282",
         "282",
         "0.992692786209852"
        ],
        [
         "370",
         "370",
         "0.9909179731932305"
        ],
        [
         "230",
         "230",
         "0.9900502645410016"
        ],
        [
         "431",
         "431",
         "0.9885772456418179"
        ],
        [
         "161",
         "161",
         "0.9863060772035582"
        ],
        [
         "428",
         "428",
         "0.9853229014648553"
        ],
        [
         "160",
         "160",
         "0.9851030356479236"
        ],
        [
         "28",
         "28",
         "0.9840099284866782"
        ],
        [
         "143",
         "143",
         "0.9840093865450236"
        ],
        [
         "221",
         "221",
         "0.9815572842519875"
        ],
        [
         "118",
         "118",
         "0.9798520394455695"
        ],
        [
         "388",
         "388",
         "0.9779434908715027"
        ],
        [
         "75",
         "75",
         "0.9757786245841213"
        ],
        [
         "40",
         "40",
         "0.9753558397595075"
        ],
        [
         "449",
         "449",
         "0.9752613804282292"
        ],
        [
         "393",
         "393",
         "0.972813142176247"
        ],
        [
         "239",
         "239",
         "0.9685930511698392"
        ],
        [
         "382",
         "382",
         "0.9667121562302982"
        ],
        [
         "457",
         "457",
         "0.9639602573899649"
        ],
        [
         "10",
         "10",
         "0.9607114802100502"
        ],
        [
         "233",
         "233",
         "0.9598826126704638"
        ],
        [
         "333",
         "333",
         "0.9591445958610575"
        ],
        [
         "464",
         "464",
         "0.9587706330603185"
        ],
        [
         "326",
         "326",
         "0.9555582630587142"
        ],
        [
         "125",
         "125",
         "0.9513604549876554"
        ],
        [
         "278",
         "278",
         "0.9513204711887071"
        ],
        [
         "132",
         "132",
         "0.9493816610685432"
        ],
        [
         "322",
         "322",
         "0.9492737931039996"
        ],
        [
         "442",
         "442",
         "0.9475871973679322"
        ],
        [
         "456",
         "456",
         "0.9460292093681776"
        ],
        [
         "94",
         "94",
         "0.9436089945444197"
        ],
        [
         "151",
         "151",
         "0.9423953587775212"
        ],
        [
         "244",
         "244",
         "0.9387663302881639"
        ],
        [
         "380",
         "380",
         "0.9364918269564493"
        ],
        [
         "98",
         "98",
         "0.9347088023338488"
        ],
        [
         "247",
         "247",
         "0.934464758875704"
        ],
        [
         "129",
         "129",
         "0.931469814820338"
        ],
        [
         "423",
         "423",
         "0.9284440870949217"
        ],
        [
         "299",
         "299",
         "0.9281295030251118"
        ],
        [
         "34",
         "34",
         "0.9272880579137652"
        ],
        [
         "138",
         "138",
         "0.9264956409810123"
        ],
        [
         "16",
         "16",
         "0.9247870848302467"
        ],
        [
         "276",
         "276",
         "0.9224462172902647"
        ],
        [
         "379",
         "379",
         "0.9222795488507596"
        ],
        [
         "383",
         "383",
         "0.9214213185372779"
        ]
       ],
       "shape": {
        "columns": 2,
        "rows": 500
       }
      },
      "text/html": [
       "<div>\n",
       "<style scoped>\n",
       "    .dataframe tbody tr th:only-of-type {\n",
       "        vertical-align: middle;\n",
       "    }\n",
       "\n",
       "    .dataframe tbody tr th {\n",
       "        vertical-align: top;\n",
       "    }\n",
       "\n",
       "    .dataframe thead th {\n",
       "        text-align: right;\n",
       "    }\n",
       "</style>\n",
       "<table border=\"1\" class=\"dataframe\">\n",
       "  <thead>\n",
       "    <tr style=\"text-align: right;\">\n",
       "      <th></th>\n",
       "      <th>Feature</th>\n",
       "      <th>p_values</th>\n",
       "    </tr>\n",
       "  </thead>\n",
       "  <tbody>\n",
       "    <tr>\n",
       "      <th>111</th>\n",
       "      <td>111</td>\n",
       "      <td>9.997676e-01</td>\n",
       "    </tr>\n",
       "    <tr>\n",
       "      <th>296</th>\n",
       "      <td>296</td>\n",
       "      <td>9.991506e-01</td>\n",
       "    </tr>\n",
       "    <tr>\n",
       "      <th>448</th>\n",
       "      <td>448</td>\n",
       "      <td>9.977965e-01</td>\n",
       "    </tr>\n",
       "    <tr>\n",
       "      <th>53</th>\n",
       "      <td>53</td>\n",
       "      <td>9.975327e-01</td>\n",
       "    </tr>\n",
       "    <tr>\n",
       "      <th>466</th>\n",
       "      <td>466</td>\n",
       "      <td>9.944021e-01</td>\n",
       "    </tr>\n",
       "    <tr>\n",
       "      <th>...</th>\n",
       "      <td>...</td>\n",
       "      <td>...</td>\n",
       "    </tr>\n",
       "    <tr>\n",
       "      <th>4</th>\n",
       "      <td>4</td>\n",
       "      <td>7.587568e-117</td>\n",
       "    </tr>\n",
       "    <tr>\n",
       "      <th>7</th>\n",
       "      <td>7</td>\n",
       "      <td>1.062914e-119</td>\n",
       "    </tr>\n",
       "    <tr>\n",
       "      <th>6</th>\n",
       "      <td>6</td>\n",
       "      <td>1.980223e-134</td>\n",
       "    </tr>\n",
       "    <tr>\n",
       "      <th>3</th>\n",
       "      <td>3</td>\n",
       "      <td>2.693812e-135</td>\n",
       "    </tr>\n",
       "    <tr>\n",
       "      <th>2</th>\n",
       "      <td>2</td>\n",
       "      <td>1.658213e-166</td>\n",
       "    </tr>\n",
       "  </tbody>\n",
       "</table>\n",
       "<p>500 rows × 2 columns</p>\n",
       "</div>"
      ],
      "text/plain": [
       "     Feature       p_values\n",
       "111      111   9.997676e-01\n",
       "296      296   9.991506e-01\n",
       "448      448   9.977965e-01\n",
       "53        53   9.975327e-01\n",
       "466      466   9.944021e-01\n",
       "..       ...            ...\n",
       "4          4  7.587568e-117\n",
       "7          7  1.062914e-119\n",
       "6          6  1.980223e-134\n",
       "3          3  2.693812e-135\n",
       "2          2  1.658213e-166\n",
       "\n",
       "[500 rows x 2 columns]"
      ]
     },
     "execution_count": 3,
     "metadata": {},
     "output_type": "execute_result"
    }
   ],
   "source": [
    "import pandas as pd\n",
    "import numpy as np\n",
    "from sklearn.feature_selection import f_classif\n",
    "import matplotlib.pyplot as plt\n",
    "import seaborn as sns\n",
    "f_values, p_values = f_classif(X_train, y_train)\n",
    "\n",
    "\n",
    "anova_df = pd.DataFrame({\n",
    "    'Feature': range(len(p_values)),  # numer cechy\n",
    "    'p_values': p_values\n",
    "})\n",
    "anova_df.sort_values('p_values',ascending=False)"
   ]
  },
  {
   "cell_type": "code",
   "execution_count": 7,
   "id": "1d235d08",
   "metadata": {},
   "outputs": [],
   "source": [
    "from sklearn.metrics import precision_score\n",
    "from sklearn.model_selection import train_test_split\n",
    "def custom_score(estimator, X, y):\n",
    "    n_vars = X.shape[1]\n",
    "    y_pred = estimator.predict(X)\n",
    "    gain = 10*precision_score(y, y_pred)*len(y_pred)\n",
    "    return gain - 200*n_vars"
   ]
  },
  {
   "cell_type": "code",
   "execution_count": null,
   "id": "187cc736",
   "metadata": {},
   "outputs": [
    {
     "name": "stdout",
     "output_type": "stream",
     "text": [
      "Testowanie 5 cech...\n"
     ]
    },
    {
     "ename": "KeyboardInterrupt",
     "evalue": "",
     "output_type": "error",
     "traceback": [
      "\u001b[31m---------------------------------------------------------------------------\u001b[39m",
      "\u001b[31mKeyboardInterrupt\u001b[39m                         Traceback (most recent call last)",
      "\u001b[36mCell\u001b[39m\u001b[36m \u001b[39m\u001b[32mIn[9]\u001b[39m\u001b[32m, line 39\u001b[39m\n\u001b[32m     35\u001b[39m     \u001b[38;5;28;01mreturn\u001b[39;00m results\n\u001b[32m     37\u001b[39m \u001b[38;5;66;03m# ===== Uruchomienie =====\u001b[39;00m\n\u001b[32m     38\u001b[39m \u001b[38;5;66;03m# X, y muszą być wcześniej zdefiniowane\u001b[39;00m\n\u001b[32m---> \u001b[39m\u001b[32m39\u001b[39m results = \u001b[43mevaluate_rfe_with_custom_score\u001b[49m\u001b[43m(\u001b[49m\u001b[43mX_train\u001b[49m\u001b[43m,\u001b[49m\u001b[43m \u001b[49m\u001b[43my_train\u001b[49m\u001b[43m)\u001b[49m\n\u001b[32m     41\u001b[39m \u001b[38;5;66;03m# ===== Wizualizacja =====\u001b[39;00m\n\u001b[32m     42\u001b[39m df_results = pd.DataFrame(results, columns=[\u001b[33m\"\u001b[39m\u001b[33mLiczba_cech\u001b[39m\u001b[33m\"\u001b[39m, \u001b[33m\"\u001b[39m\u001b[33mCustom_score\u001b[39m\u001b[33m\"\u001b[39m])\n",
      "\u001b[36mCell\u001b[39m\u001b[36m \u001b[39m\u001b[32mIn[9]\u001b[39m\u001b[32m, line 27\u001b[39m, in \u001b[36mevaluate_rfe_with_custom_score\u001b[39m\u001b[34m(X, y, step, min_features, max_features, cv)\u001b[39m\n\u001b[32m     25\u001b[39m model = XGBClassifier(use_label_encoder=\u001b[38;5;28;01mFalse\u001b[39;00m, eval_metric=\u001b[33m'\u001b[39m\u001b[33mlogloss\u001b[39m\u001b[33m'\u001b[39m, verbosity=\u001b[32m0\u001b[39m)\n\u001b[32m     26\u001b[39m selector = RFE(estimator=model, n_features_to_select=n_features, step=step)\n\u001b[32m---> \u001b[39m\u001b[32m27\u001b[39m \u001b[43mselector\u001b[49m\u001b[43m.\u001b[49m\u001b[43mfit\u001b[49m\u001b[43m(\u001b[49m\u001b[43mX\u001b[49m\u001b[43m,\u001b[49m\u001b[43m \u001b[49m\u001b[43my\u001b[49m\u001b[43m)\u001b[49m\n\u001b[32m     28\u001b[39m X_selected = selector.transform(X)\n\u001b[32m     30\u001b[39m scores = cross_val_score(model, X_selected, y, cv=cv, scoring=custom_scorer)\n",
      "\u001b[36mFile \u001b[39m\u001b[32mc:\\Users\\Micha\\anaconda3\\envs\\idp\\Lib\\site-packages\\sklearn\\base.py:1389\u001b[39m, in \u001b[36m_fit_context.<locals>.decorator.<locals>.wrapper\u001b[39m\u001b[34m(estimator, *args, **kwargs)\u001b[39m\n\u001b[32m   1382\u001b[39m     estimator._validate_params()\n\u001b[32m   1384\u001b[39m \u001b[38;5;28;01mwith\u001b[39;00m config_context(\n\u001b[32m   1385\u001b[39m     skip_parameter_validation=(\n\u001b[32m   1386\u001b[39m         prefer_skip_nested_validation \u001b[38;5;129;01mor\u001b[39;00m global_skip_validation\n\u001b[32m   1387\u001b[39m     )\n\u001b[32m   1388\u001b[39m ):\n\u001b[32m-> \u001b[39m\u001b[32m1389\u001b[39m     \u001b[38;5;28;01mreturn\u001b[39;00m \u001b[43mfit_method\u001b[49m\u001b[43m(\u001b[49m\u001b[43mestimator\u001b[49m\u001b[43m,\u001b[49m\u001b[43m \u001b[49m\u001b[43m*\u001b[49m\u001b[43margs\u001b[49m\u001b[43m,\u001b[49m\u001b[43m \u001b[49m\u001b[43m*\u001b[49m\u001b[43m*\u001b[49m\u001b[43mkwargs\u001b[49m\u001b[43m)\u001b[49m\n",
      "\u001b[36mFile \u001b[39m\u001b[32mc:\\Users\\Micha\\anaconda3\\envs\\idp\\Lib\\site-packages\\sklearn\\feature_selection\\_rfe.py:276\u001b[39m, in \u001b[36mRFE.fit\u001b[39m\u001b[34m(self, X, y, **fit_params)\u001b[39m\n\u001b[32m    273\u001b[39m \u001b[38;5;28;01melse\u001b[39;00m:\n\u001b[32m    274\u001b[39m     routed_params = Bunch(estimator=Bunch(fit=fit_params))\n\u001b[32m--> \u001b[39m\u001b[32m276\u001b[39m \u001b[38;5;28;01mreturn\u001b[39;00m \u001b[38;5;28;43mself\u001b[39;49m\u001b[43m.\u001b[49m\u001b[43m_fit\u001b[49m\u001b[43m(\u001b[49m\u001b[43mX\u001b[49m\u001b[43m,\u001b[49m\u001b[43m \u001b[49m\u001b[43my\u001b[49m\u001b[43m,\u001b[49m\u001b[43m \u001b[49m\u001b[43m*\u001b[49m\u001b[43m*\u001b[49m\u001b[43mrouted_params\u001b[49m\u001b[43m.\u001b[49m\u001b[43mestimator\u001b[49m\u001b[43m.\u001b[49m\u001b[43mfit\u001b[49m\u001b[43m)\u001b[49m\n",
      "\u001b[36mFile \u001b[39m\u001b[32mc:\\Users\\Micha\\anaconda3\\envs\\idp\\Lib\\site-packages\\sklearn\\feature_selection\\_rfe.py:332\u001b[39m, in \u001b[36mRFE._fit\u001b[39m\u001b[34m(self, X, y, step_score, **fit_params)\u001b[39m\n\u001b[32m    329\u001b[39m \u001b[38;5;28;01mif\u001b[39;00m \u001b[38;5;28mself\u001b[39m.verbose > \u001b[32m0\u001b[39m:\n\u001b[32m    330\u001b[39m     \u001b[38;5;28mprint\u001b[39m(\u001b[33m\"\u001b[39m\u001b[33mFitting estimator with \u001b[39m\u001b[38;5;132;01m%d\u001b[39;00m\u001b[33m features.\u001b[39m\u001b[33m\"\u001b[39m % np.sum(support_))\n\u001b[32m--> \u001b[39m\u001b[32m332\u001b[39m \u001b[43mestimator\u001b[49m\u001b[43m.\u001b[49m\u001b[43mfit\u001b[49m\u001b[43m(\u001b[49m\u001b[43mX\u001b[49m\u001b[43m[\u001b[49m\u001b[43m:\u001b[49m\u001b[43m,\u001b[49m\u001b[43m \u001b[49m\u001b[43mfeatures\u001b[49m\u001b[43m]\u001b[49m\u001b[43m,\u001b[49m\u001b[43m \u001b[49m\u001b[43my\u001b[49m\u001b[43m,\u001b[49m\u001b[43m \u001b[49m\u001b[43m*\u001b[49m\u001b[43m*\u001b[49m\u001b[43mfit_params\u001b[49m\u001b[43m)\u001b[49m\n\u001b[32m    334\u001b[39m \u001b[38;5;66;03m# Get importance and rank them\u001b[39;00m\n\u001b[32m    335\u001b[39m importances = _get_feature_importances(\n\u001b[32m    336\u001b[39m     estimator,\n\u001b[32m    337\u001b[39m     \u001b[38;5;28mself\u001b[39m.importance_getter,\n\u001b[32m    338\u001b[39m     transform_func=\u001b[33m\"\u001b[39m\u001b[33msquare\u001b[39m\u001b[33m\"\u001b[39m,\n\u001b[32m    339\u001b[39m )\n",
      "\u001b[36mFile \u001b[39m\u001b[32mc:\\Users\\Micha\\anaconda3\\envs\\idp\\Lib\\site-packages\\xgboost\\core.py:729\u001b[39m, in \u001b[36mrequire_keyword_args.<locals>.throw_if.<locals>.inner_f\u001b[39m\u001b[34m(*args, **kwargs)\u001b[39m\n\u001b[32m    727\u001b[39m \u001b[38;5;28;01mfor\u001b[39;00m k, arg \u001b[38;5;129;01min\u001b[39;00m \u001b[38;5;28mzip\u001b[39m(sig.parameters, args):\n\u001b[32m    728\u001b[39m     kwargs[k] = arg\n\u001b[32m--> \u001b[39m\u001b[32m729\u001b[39m \u001b[38;5;28;01mreturn\u001b[39;00m \u001b[43mfunc\u001b[49m\u001b[43m(\u001b[49m\u001b[43m*\u001b[49m\u001b[43m*\u001b[49m\u001b[43mkwargs\u001b[49m\u001b[43m)\u001b[49m\n",
      "\u001b[36mFile \u001b[39m\u001b[32mc:\\Users\\Micha\\anaconda3\\envs\\idp\\Lib\\site-packages\\xgboost\\sklearn.py:1682\u001b[39m, in \u001b[36mXGBClassifier.fit\u001b[39m\u001b[34m(self, X, y, sample_weight, base_margin, eval_set, verbose, xgb_model, sample_weight_eval_set, base_margin_eval_set, feature_weights)\u001b[39m\n\u001b[32m   1660\u001b[39m model, metric, params, feature_weights = \u001b[38;5;28mself\u001b[39m._configure_fit(\n\u001b[32m   1661\u001b[39m     xgb_model, params, feature_weights\n\u001b[32m   1662\u001b[39m )\n\u001b[32m   1663\u001b[39m train_dmatrix, evals = _wrap_evaluation_matrices(\n\u001b[32m   1664\u001b[39m     missing=\u001b[38;5;28mself\u001b[39m.missing,\n\u001b[32m   1665\u001b[39m     X=X,\n\u001b[32m   (...)\u001b[39m\u001b[32m   1679\u001b[39m     feature_types=\u001b[38;5;28mself\u001b[39m.feature_types,\n\u001b[32m   1680\u001b[39m )\n\u001b[32m-> \u001b[39m\u001b[32m1682\u001b[39m \u001b[38;5;28mself\u001b[39m._Booster = \u001b[43mtrain\u001b[49m\u001b[43m(\u001b[49m\n\u001b[32m   1683\u001b[39m \u001b[43m    \u001b[49m\u001b[43mparams\u001b[49m\u001b[43m,\u001b[49m\n\u001b[32m   1684\u001b[39m \u001b[43m    \u001b[49m\u001b[43mtrain_dmatrix\u001b[49m\u001b[43m,\u001b[49m\n\u001b[32m   1685\u001b[39m \u001b[43m    \u001b[49m\u001b[38;5;28;43mself\u001b[39;49m\u001b[43m.\u001b[49m\u001b[43mget_num_boosting_rounds\u001b[49m\u001b[43m(\u001b[49m\u001b[43m)\u001b[49m\u001b[43m,\u001b[49m\n\u001b[32m   1686\u001b[39m \u001b[43m    \u001b[49m\u001b[43mevals\u001b[49m\u001b[43m=\u001b[49m\u001b[43mevals\u001b[49m\u001b[43m,\u001b[49m\n\u001b[32m   1687\u001b[39m \u001b[43m    \u001b[49m\u001b[43mearly_stopping_rounds\u001b[49m\u001b[43m=\u001b[49m\u001b[38;5;28;43mself\u001b[39;49m\u001b[43m.\u001b[49m\u001b[43mearly_stopping_rounds\u001b[49m\u001b[43m,\u001b[49m\n\u001b[32m   1688\u001b[39m \u001b[43m    \u001b[49m\u001b[43mevals_result\u001b[49m\u001b[43m=\u001b[49m\u001b[43mevals_result\u001b[49m\u001b[43m,\u001b[49m\n\u001b[32m   1689\u001b[39m \u001b[43m    \u001b[49m\u001b[43mobj\u001b[49m\u001b[43m=\u001b[49m\u001b[43mobj\u001b[49m\u001b[43m,\u001b[49m\n\u001b[32m   1690\u001b[39m \u001b[43m    \u001b[49m\u001b[43mcustom_metric\u001b[49m\u001b[43m=\u001b[49m\u001b[43mmetric\u001b[49m\u001b[43m,\u001b[49m\n\u001b[32m   1691\u001b[39m \u001b[43m    \u001b[49m\u001b[43mverbose_eval\u001b[49m\u001b[43m=\u001b[49m\u001b[43mverbose\u001b[49m\u001b[43m,\u001b[49m\n\u001b[32m   1692\u001b[39m \u001b[43m    \u001b[49m\u001b[43mxgb_model\u001b[49m\u001b[43m=\u001b[49m\u001b[43mmodel\u001b[49m\u001b[43m,\u001b[49m\n\u001b[32m   1693\u001b[39m \u001b[43m    \u001b[49m\u001b[43mcallbacks\u001b[49m\u001b[43m=\u001b[49m\u001b[38;5;28;43mself\u001b[39;49m\u001b[43m.\u001b[49m\u001b[43mcallbacks\u001b[49m\u001b[43m,\u001b[49m\n\u001b[32m   1694\u001b[39m \u001b[43m\u001b[49m\u001b[43m)\u001b[49m\n\u001b[32m   1696\u001b[39m \u001b[38;5;28;01mif\u001b[39;00m \u001b[38;5;129;01mnot\u001b[39;00m \u001b[38;5;28mcallable\u001b[39m(\u001b[38;5;28mself\u001b[39m.objective):\n\u001b[32m   1697\u001b[39m     \u001b[38;5;28mself\u001b[39m.objective = params[\u001b[33m\"\u001b[39m\u001b[33mobjective\u001b[39m\u001b[33m\"\u001b[39m]\n",
      "\u001b[36mFile \u001b[39m\u001b[32mc:\\Users\\Micha\\anaconda3\\envs\\idp\\Lib\\site-packages\\xgboost\\core.py:729\u001b[39m, in \u001b[36mrequire_keyword_args.<locals>.throw_if.<locals>.inner_f\u001b[39m\u001b[34m(*args, **kwargs)\u001b[39m\n\u001b[32m    727\u001b[39m \u001b[38;5;28;01mfor\u001b[39;00m k, arg \u001b[38;5;129;01min\u001b[39;00m \u001b[38;5;28mzip\u001b[39m(sig.parameters, args):\n\u001b[32m    728\u001b[39m     kwargs[k] = arg\n\u001b[32m--> \u001b[39m\u001b[32m729\u001b[39m \u001b[38;5;28;01mreturn\u001b[39;00m \u001b[43mfunc\u001b[49m\u001b[43m(\u001b[49m\u001b[43m*\u001b[49m\u001b[43m*\u001b[49m\u001b[43mkwargs\u001b[49m\u001b[43m)\u001b[49m\n",
      "\u001b[36mFile \u001b[39m\u001b[32mc:\\Users\\Micha\\anaconda3\\envs\\idp\\Lib\\site-packages\\xgboost\\training.py:183\u001b[39m, in \u001b[36mtrain\u001b[39m\u001b[34m(params, dtrain, num_boost_round, evals, obj, maximize, early_stopping_rounds, evals_result, verbose_eval, xgb_model, callbacks, custom_metric)\u001b[39m\n\u001b[32m    181\u001b[39m \u001b[38;5;28;01mif\u001b[39;00m cb_container.before_iteration(bst, i, dtrain, evals):\n\u001b[32m    182\u001b[39m     \u001b[38;5;28;01mbreak\u001b[39;00m\n\u001b[32m--> \u001b[39m\u001b[32m183\u001b[39m \u001b[43mbst\u001b[49m\u001b[43m.\u001b[49m\u001b[43mupdate\u001b[49m\u001b[43m(\u001b[49m\u001b[43mdtrain\u001b[49m\u001b[43m,\u001b[49m\u001b[43m \u001b[49m\u001b[43miteration\u001b[49m\u001b[43m=\u001b[49m\u001b[43mi\u001b[49m\u001b[43m,\u001b[49m\u001b[43m \u001b[49m\u001b[43mfobj\u001b[49m\u001b[43m=\u001b[49m\u001b[43mobj\u001b[49m\u001b[43m)\u001b[49m\n\u001b[32m    184\u001b[39m \u001b[38;5;28;01mif\u001b[39;00m cb_container.after_iteration(bst, i, dtrain, evals):\n\u001b[32m    185\u001b[39m     \u001b[38;5;28;01mbreak\u001b[39;00m\n",
      "\u001b[36mFile \u001b[39m\u001b[32mc:\\Users\\Micha\\anaconda3\\envs\\idp\\Lib\\site-packages\\xgboost\\core.py:2247\u001b[39m, in \u001b[36mBooster.update\u001b[39m\u001b[34m(self, dtrain, iteration, fobj)\u001b[39m\n\u001b[32m   2243\u001b[39m \u001b[38;5;28mself\u001b[39m._assign_dmatrix_features(dtrain)\n\u001b[32m   2245\u001b[39m \u001b[38;5;28;01mif\u001b[39;00m fobj \u001b[38;5;129;01mis\u001b[39;00m \u001b[38;5;28;01mNone\u001b[39;00m:\n\u001b[32m   2246\u001b[39m     _check_call(\n\u001b[32m-> \u001b[39m\u001b[32m2247\u001b[39m         \u001b[43m_LIB\u001b[49m\u001b[43m.\u001b[49m\u001b[43mXGBoosterUpdateOneIter\u001b[49m\u001b[43m(\u001b[49m\n\u001b[32m   2248\u001b[39m \u001b[43m            \u001b[49m\u001b[38;5;28;43mself\u001b[39;49m\u001b[43m.\u001b[49m\u001b[43mhandle\u001b[49m\u001b[43m,\u001b[49m\u001b[43m \u001b[49m\u001b[43mctypes\u001b[49m\u001b[43m.\u001b[49m\u001b[43mc_int\u001b[49m\u001b[43m(\u001b[49m\u001b[43miteration\u001b[49m\u001b[43m)\u001b[49m\u001b[43m,\u001b[49m\u001b[43m \u001b[49m\u001b[43mdtrain\u001b[49m\u001b[43m.\u001b[49m\u001b[43mhandle\u001b[49m\n\u001b[32m   2249\u001b[39m \u001b[43m        \u001b[49m\u001b[43m)\u001b[49m\n\u001b[32m   2250\u001b[39m     )\n\u001b[32m   2251\u001b[39m \u001b[38;5;28;01melse\u001b[39;00m:\n\u001b[32m   2252\u001b[39m     pred = \u001b[38;5;28mself\u001b[39m.predict(dtrain, output_margin=\u001b[38;5;28;01mTrue\u001b[39;00m, training=\u001b[38;5;28;01mTrue\u001b[39;00m)\n",
      "\u001b[31mKeyboardInterrupt\u001b[39m: "
     ]
    }
   ],
   "source": [
    "import numpy as np\n",
    "import pandas as pd\n",
    "from sklearn.feature_selection import RFE\n",
    "from xgboost import XGBClassifier\n",
    "from sklearn.model_selection import cross_val_score, StratifiedKFold\n",
    "from sklearn.metrics import make_scorer, accuracy_score  # przykładowy custom score\n",
    "import matplotlib.pyplot as plt\n",
    "\n",
    "def custom_score(estimator, X, y):\n",
    "    n_vars = X.shape[1]\n",
    "    y_pred = estimator.predict(X)\n",
    "    gain = 10*precision_score(y, y_pred)*len(y_pred)\n",
    "    return gain - 200*n_vars\n",
    "\n",
    "custom_scorer = make_scorer(custom_score)\n",
    "\n",
    "def evaluate_rfe_with_custom_score(X, y, step=1, min_features=5, max_features=20, cv=5):\n",
    "    results = []\n",
    "\n",
    "    for n_features in range(min_features, max_features + 1, step):\n",
    "        print(f\"Testowanie {n_features} cech...\")\n",
    "\n",
    "        model = XGBClassifier(use_label_encoder=False, eval_metric='logloss', verbosity=0)\n",
    "        selector = RFE(estimator=model, n_features_to_select=n_features, step=0.25, verbose=1)\n",
    "        selector.fit(X, y)\n",
    "        X_selected = selector.transform(X)\n",
    "\n",
    "        scores = cross_val_score(model, X_selected, y, cv=cv, scoring=custom_scorer)\n",
    "        mean_score = np.mean(scores)\n",
    "        print(mean_score)\n",
    "        results.append((n_features, mean_score))\n",
    "\n",
    "    return results\n",
    "\n",
    "results = evaluate_rfe_with_custom_score(X_train, y_train)\n",
    "\n"
   ]
  },
  {
   "cell_type": "code",
   "execution_count": null,
   "id": "135998e1",
   "metadata": {},
   "outputs": [],
   "source": []
  }
 ],
 "metadata": {
  "kernelspec": {
   "display_name": "idp",
   "language": "python",
   "name": "python3"
  },
  "language_info": {
   "codemirror_mode": {
    "name": "ipython",
    "version": 3
   },
   "file_extension": ".py",
   "mimetype": "text/x-python",
   "name": "python",
   "nbconvert_exporter": "python",
   "pygments_lexer": "ipython3",
   "version": "3.12.5"
  }
 },
 "nbformat": 4,
 "nbformat_minor": 5
}
